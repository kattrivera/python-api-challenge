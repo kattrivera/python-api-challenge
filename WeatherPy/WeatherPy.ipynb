{
 "cells": [
  {
   "cell_type": "markdown",
   "metadata": {},
   "source": [
    "# WeatherPy\n",
    "----\n",
    "\n",
    "#### Note\n",
    "* Instructions have been included for each segment. You do not have to follow them exactly, but they are included to help you think through the steps."
   ]
  },
  {
   "cell_type": "code",
   "execution_count": 13,
   "metadata": {
    "scrolled": true
   },
   "outputs": [],
   "source": [
    "# Dependencies and Setup\n",
    "import matplotlib.pyplot as plt\n",
    "import pandas as pd\n",
    "import numpy as np\n",
    "import requests\n",
    "import time\n",
    "from scipy.stats import linregress\n",
    "from pprint import pprint\n",
    "\n",
    "# Import API key\n",
    "from api_keys import weather_api_key\n",
    "\n",
    "# Incorporated citipy to determine city based on latitude and longitude\n",
    "from citipy import citipy\n",
    "\n",
    "# Output File (CSV)\n",
    "output_data_file = \"../output_data/cities.csv\"\n",
    "\n",
    "# Range of latitudes and longitudes\n",
    "lat_range = (-90, 90)\n",
    "lng_range = (-180, 180)"
   ]
  },
  {
   "cell_type": "markdown",
   "metadata": {},
   "source": [
    "## Generate Cities List"
   ]
  },
  {
   "cell_type": "code",
   "execution_count": 14,
   "metadata": {},
   "outputs": [
    {
     "name": "stdout",
     "output_type": "stream",
     "text": [
      "625\n"
     ]
    }
   ],
   "source": [
    "# List for holding lat_lngs and cities\n",
    "lat_lngs = []\n",
    "cities = []\n",
    "\n",
    "# Create a set of random lat and lng combinations\n",
    "lats = np.random.uniform(lat_range[0], lat_range[1], size=1500)\n",
    "lngs = np.random.uniform(lng_range[0], lng_range[1], size=1500)\n",
    "lat_lngs = zip(lats, lngs)\n",
    "\n",
    "# Identify nearest city for each lat, lng combination\n",
    "for lat_lng in lat_lngs:\n",
    "    city = citipy.nearest_city(lat_lng[0], lat_lng[1]).city_name # ????\n",
    "    \n",
    "    # If the city is unique, then add it to a our cities list\n",
    "    if city not in cities:\n",
    "        cities.append(city)\n",
    "\n",
    "# Print the city count to confirm sufficient count\n",
    "totalCities = len(cities)\n",
    "print(totalCities)"
   ]
  },
  {
   "cell_type": "code",
   "execution_count": 15,
   "metadata": {},
   "outputs": [
    {
     "name": "stdout",
     "output_type": "stream",
     "text": [
      "['ribeira grande', 'faya', 'qaanaaq', 'hermanus', 'mahina', 'grindavik', 'lypnyazhka', 'klaksvik', 'port alfred', 'albany', 'airai', 'kapaa', 'grand river south east', 'jamestown', 'atuona', 'alakurtti', 'severo-kurilsk', 'trelew', 'price', 'mujiayingzi', 'bethel', 'rikitea', 'mataura', 'saint-philippe', 'yatou', 'ushuaia', 'vitim', 'pangoa', 'dikson', 'bredasdorp', 'san cristobal', 'tasiilaq', 'port elizabeth', 'taolanaro', 'mbini', 'bababe', 'leshukonskoye', 'kruisfontein', 'lufilufi', 'bahia blanca', 'ambarawa', 'busselton', 'manavalakurichi', 'ilulissat', 'avarua', 'longyearbyen', 'esso', 'altay', 'san ignacio', 'maryville', 'provideniya', 'mandalgovi', 'changli', 'tuktoyaktuk', 'sitka', 'puerto ayora', 'san luis', 'grand gaube', 'upernavik', 'feicheng', 'saryshagan', 'pak phanang', 'hithadhoo', 'marsabit', 'charagua', 'nalut', 'alingsas', 'boundiali', 'bluff', 'hastings', 'chokurdakh', 'katsuura', 'torbat-e jam', 'husavik', 'wuwei', 'arlit', 'zyryanka', 'berlevag', 'mar del plata', 'nikolskoye', 'hilo', 'hobart', 'feni', 'bolu', 'lorengau', 'port lincoln', 'cape town', 'vaini', 'hamilton', 'poum', 'thompson', 'lagunas', 'cornwall', 'russell', 'karkaralinsk', 'kenai', 'fairbanks', 'pangnirtung', 'orapa', 'pevek', 'vao', 'dunedin', 'yellowknife', 'waingapu', 'ust-kamchatsk', 'constitucion', 'vestmannaeyjar', 'new norfolk', 'dover', 'khatanga', 'sabya', 'mys shmidta', 'progreso', 'juifang', 'port moresby', 'illoqqortoormiut', 'aklavik', 'bulawayo', 'mergui', 'sentyabrskiy', 'nacala', 'tselinnoye', 'santiago del estero', 'butaritari', 'punta arenas', 'ponta do sol', 'puksoozero', 'puerto quijarro', 'asau', 'sao felix do xingu', 'shakawe', 'houston', 'krasnokamensk', 'bambous virieux', 'arraial do cabo', 'oranjemund', 'azimur', 'bulgan', 'east london', 'abalak', 'bagru', 'san lawrenz', 'bowen', 'norman wells', 'puerto escondido', 'oksfjord', 'lebanon', 'rio grande', 'caravelas', 'la ronge', 'saint paul', 'paciran', 'palana', 'ostrovnoy', 'aramil', 'slave lake', 'de-kastri', 'zhanatas', 'alvorada', 'hasaki', 'aykhal', 'vardo', 'victoria', 'nanortalik', 'tiksi', 'cabo san lucas', 'samusu', 'maceio', 'riohacha', 'gardan diwal', 'dingle', 'saleaula', 'nantucket', 'vaitupu', 'nichinan', 'odweyne', 'baker city', 'khasan', 'amapa', 'esperance', 'tigil', 'cherskiy', 'belushya guba', 'itzincab', 'akcakoca', 'saskylakh', 'carnarvon', 'nuuk', 'langres', 'puerto madryn', 'medicine hat', 'turukhansk', 'hirara', 'belaya gora', 'penzance', 'sao raimundo nonato', 'te anau', 'safford', 'codrington', 'roald', 'wethersfield', 'vanavara', 'marawi', 'gat', 'kloulklubed', 'xixiang', 'port blair', 'garowe', 'nome', 'sao filipe', 'chuy', 'idlib', 'souillac', 'castro', 'adre', 'vokhtoga', 'ahuimanu', 'namatanai', 'srednekolymsk', 'ballina', 'makakilo city', 'kuche', 'kon tum', 'urucara', 'barrow', 'faanui', 'coruripe', 'ancud', 'kodiak', 'pokaran', 'georgetown', 'maniitsoq', 'caluquembe', 'tarudant', 'bargal', 'tsentralnyy', 'lompoc', 'bell ville', 'lanzhou', 'saldanha', 'jinchang', 'ardakan', 'raudeberg', 'kampot', 'balabac', 'atar', 'punjai puliyampatti', 'dolny kubin', 'kigoma', 'juneau', 'tiruchchendur', 'atbasar', 'lasa', 'bengkulu', 'barentsburg', 'zabid', 'finnsnes', 'mushie', 'umzimvubu', 'kaitangata', 'dragoesti', 'yavoriv', 'broome', 'quatre cocos', 'kang', 'samarai', 'shingu', 'tautira', 'nemuro', 'singaraja', 'borzya', 'honiara', 'pierre', 'boyolangu', 'forestville', 'ucluelet', 'rocha', 'kiruna', 'sayat', 'plettenberg bay', 'tombouctou', 'kautokeino', 'ust-tsilma', 'hualmay', 'giyani', 'jiayuguan', 'bonthe', 'vung tau', 'pisco', 'songjianghe', 'san joaquin', 'amga', 'mahebourg', 'avera', 'careiro da varzea', 'adrar', 'batemans bay', 'cidreira', 'aldan', 'kavaratti', 'jalingo', 'torbay', 'salalah', 'johi', 'lumeje', 'nizhneyansk', 'alice springs', 'amderma', 'santa maria', 'kamenskoye', 'clovis', 'yirol', 'aksarka', 'ahipara', 'bud', 'cairns', 'sabaudia', 'prince rupert', 'pemberton', 'tual', 'murwillumbah', 'paliyad', 'north platte', 'mentok', 'iqaluit', 'urusha', 'mehamn', 'tiznit', 'sretensk', 'viedma', 'huainan', 'saint george', 'pacifica', 'obo', 'port macquarie', 'papetoai', 'gilazi', 'iquique', 'milazzo', 'sakaiminato', 'toungoo', 'tukrah', 'flagstaff', 'lagoa', 'general roca', 'san patricio', 'dzhusaly', 'paoua', 'van', 'kupang', 'catamayo', 'caceres', 'bolungarvik', 'troitskoye', 'pecos', 'taksimo', 'lolua', 'sept-iles', 'lavrentiya', 'kulhudhuffushi', 'west wendover', 'la palma', 'naze', 'harrismith', 'oktyabrskoye', 'batsfjord', 'burica', 'hereford', 'zyukayka', 'dwarka', 'rawson', 'galveston', 'sembe', 'bajil', 'mount isa', 'bolshoy tsaryn', 'flinders', 'avila', 'hambantota', 'bukachacha', 'boffa', 'pindobacu', 'dingli', 'katherine', 'mumbwa', 'palabuhanratu', 'kahului', 'vilhena', 'basse', 'gamba', 'kavieng', 'afgoye', 'killini', 'bilma', 'bom jesus', 'wittingen', 'korla', 'vavozh', 'mezhdurechensk', 'hobyo', 'narsaq', 'attawapiskat', 'kawalu', 'lieksa', 'rawah', 'centenario do sul', 'tuatapere', 'sayhat', 'ambon', 'rzhev', 'ambulu', 'valparaiso', 'maltahohe', 'paamiut', 'beloha', 'tenenkou', 'galatas', 'mulki', 'muros', 'leningradskiy', 'chagda', 'busayra', 'auki', 'geraldton', 'chase', 'villamontes', 'comodoro rivadavia', 'fortuna', 'anadyr', 'maningrida', 'lae', 'havre-saint-pierre', 'mon', 'homer', 'vincennes', 'ketchikan', 'hami', 'athabasca', 'luanda', 'northam', 'seoul', 'barda', 'qui nhon', 'mabaruma', 'alotau', 'omboue', 'zhigansk', 'jaque', 'romano di lombardia', 'amot', 'glenwood springs', 'ituni', 'buchanan', 'laguna', 'princeton', 'inirida', 'riyadh', 'yeppoon', 'half moon bay', 'komsomolskiy', 'muhos', 'sosnovo-ozerskoye', 'meulaboh', 'albuquerque', 'kokopo', 'dhidhdhoo', 'micheweni', 'skelleftea', 'sechura', 'barentu', 'charters towers', 'inderborskiy', 'okhotsk', 'ponta delgada', 'saint anthony', 'manoel urbano', 'pacific grove', 'shimoda', 'lebu', 'richards bay', 'clyde river', 'coquimbo', 'kralendijk', 'pemangkat', 'kununurra', 'la baule-escoublac', 'saint-pierre', 'boa esperanca do sul', 'taltal', 'bezhanitsy', 'tucupita', 'mondragon', 'najran', 'san juan del sur', 'arroio grande', 'bay roberts', 'deputatskiy', 'petropavlovsk-kamchatskiy', 'nova friburgo', 'parnu-jaagupi', 'palmer', 'karpogory', 'nabire', 'hovd', 'magdagachi', 'agva', 'sao joao da barra', 'keti bandar', 'zmeinogorsk', 'sur', 'cayenne', 'ixtapa', 'winchester', 'maria aurora', 'belozerskoye', 'sola', 'palafrugell', 'brattvag', 'tsihombe', 'oistins', 'saint-leu', 'zelenoborsk', 'bela', 'brigantine', 'tabou', 'lamar', 'coihaique', 'sasykoli', 'nezhinka', 'miandrivazo', 'luderitz', 'cururupu', 'grand-santi', 'peachland', 'san quintin', 'jatiroto', 'tunxi', 'bilecik', 'la rioja', 'tsalenjikha', 'lubango', 'kota tinggi', 'guerrero negro', 'mramor', 'gandara', 'kadykchan', 'eenhana', 'hanzhong', 'inzer', 'saint-joseph', 'vila franca do campo', 'san carlos de bariloche', 'paralimni', 'upington', 'college', 'shenzhen', 'sambava', 'mandal', 'pedernales', 'naryan-mar', 'ternate', 'vanimo', 'jinchengjiang', 'rawannawi', 'verkhnevilyuysk', 'stephenville', 'aranos', 'porto torres', 'batagay-alyta', 'svetlogorsk', 'dongsheng', 'pochutla', 'morehead', 'san policarpo', 'quimper', 'port hueneme', 'kirakira', 'tanggulangin', 'san andres', 'tessalit', 'merauke', 'tawkar', 'jutai', 'tateyama', 'kamaishi', 'yurkivka', 'sorland', 'omis', 'bratsk', 'nishihara', 'tongling', 'bilibino', 'betare oya', 'buala', 'pahrump', 'tazovskiy', 'hobe sound', 'kilindoni', 'scottsburgh', 'nokaneng', 'salinas', 'rio de janeiro', 'siyabuswa', 'port-gentil', 'canete', 'johnson city', 'karratha', 'muroran', 'portland', 'high level', 'pringsewu', 'locri', 'juye', 'ziarat', 'xiamen', 'abu samrah', 'itarema', 'colac', 'abay', 'rio gallegos', 'roma', 'rundu', 'tabiauea', 'bairiki', 'saint-francois']\n"
     ]
    }
   ],
   "source": [
    "# print randomized city list\n",
    "print(cities)"
   ]
  },
  {
   "cell_type": "markdown",
   "metadata": {},
   "source": [
    "### Perform API Calls\n",
    "* Perform a weather check on each city using a series of successive API calls.\n",
    "* Include a print log of each city as it'sbeing processed (with the city number and city name).\n"
   ]
  },
  {
   "cell_type": "code",
   "execution_count": 16,
   "metadata": {},
   "outputs": [
    {
     "name": "stdout",
     "output_type": "stream",
     "text": [
      " http://api.openweathermap.org/data/2.5/weather?appid=39e616bcf30fc5c61cdd3d129f43f839&q=\n"
     ]
    }
   ],
   "source": [
    "# Save config information\n",
    "url = \"http://api.openweathermap.org/data/2.5/weather?\"\n",
    "\n",
    "# assign a unit of measure\n",
    "units = \"imperial\"\n",
    "\n",
    "# create lists\n",
    "lat = []\n",
    "lng = []\n",
    "maxTemp = []\n",
    "humidity = []\n",
    "cloudiness = []\n",
    "windSpeed = []\n",
    "country = []\n",
    "date = []\n",
    "cityList = [] # why would i need another list?\n",
    "\n",
    "# Build query URL\n",
    "query_url = f\" {url}appid={weather_api_key}&q=\"\n",
    "print(query_url)       "
   ]
  },
  {
   "cell_type": "code",
   "execution_count": 17,
   "metadata": {},
   "outputs": [
    {
     "data": {
      "text/plain": [
       "' http://api.openweathermap.org/data/2.5/weather?appid=39e616bcf30fc5c61cdd3d129f43f839&q=isla%20mujeres&units=imperial'"
      ]
     },
     "execution_count": 17,
     "metadata": {},
     "output_type": "execute_result"
    }
   ],
   "source": [
    "# look up a city manually to see structure of indeces\n",
    "f\" {url}appid={weather_api_key}&q=isla%20mujeres&units={units}\""
   ]
  },
  {
   "cell_type": "code",
   "execution_count": 18,
   "metadata": {},
   "outputs": [
    {
     "name": "stdout",
     "output_type": "stream",
     "text": [
      "Processing 1 of 625 | city:ribeira grande; id:3372707\n",
      "Processing 2 of 625 | city:faya; id:110690\n",
      "Processing 3 of 625 | city:qaanaaq; id:3831208\n",
      "Processing 4 of 625 | city:hermanus; id:3366880\n",
      "Processing 5 of 625 | city:mahina; id:4034307\n",
      "Processing 6 of 625 | city:grindavik; id:3416888\n",
      "Processing 7 of 625 | city:lypnyazhka; id:703017\n",
      "Processing 8 of 625 | city:klaksvik; id:2618795\n",
      "Processing 9 of 625 | city:port alfred; id:964432\n",
      "Processing 10 of 625 | city:albany; id:5106841\n",
      "Processing 11 of 625 | city:airai; id:1651810\n",
      "Processing 12 of 625 | city:kapaa; id:5848280\n",
      "City not found. Skipping...\n",
      "Processing 13 of 625 | city:jamestown; id:5122534\n",
      "Processing 14 of 625 | city:atuona; id:4020109\n",
      "Processing 15 of 625 | city:alakurtti; id:583472\n",
      "Processing 16 of 625 | city:severo-kurilsk; id:2121385\n",
      "Processing 17 of 625 | city:trelew; id:3833883\n",
      "Processing 18 of 625 | city:price; id:5545269\n",
      "Processing 19 of 625 | city:mujiayingzi; id:2035707\n",
      "Processing 20 of 625 | city:bethel; id:5282297\n",
      "Processing 21 of 625 | city:rikitea; id:4030556\n",
      "Processing 22 of 625 | city:mataura; id:6201424\n",
      "Processing 23 of 625 | city:saint-philippe; id:935215\n",
      "Processing 24 of 625 | city:yatou; id:1786855\n",
      "Processing 25 of 625 | city:ushuaia; id:3833367\n",
      "Processing 26 of 625 | city:vitim; id:2013375\n",
      "Processing 27 of 625 | city:pangoa; id:3933104\n",
      "Processing 28 of 625 | city:dikson; id:1507390\n",
      "Processing 29 of 625 | city:bredasdorp; id:1015776\n",
      "Processing 30 of 625 | city:san cristobal; id:3628473\n",
      "Processing 31 of 625 | city:tasiilaq; id:3424607\n",
      "Processing 32 of 625 | city:port elizabeth; id:964420\n",
      "City not found. Skipping...\n",
      "Processing 33 of 625 | city:mbini; id:2308278\n",
      "City not found. Skipping...\n",
      "Processing 34 of 625 | city:leshukonskoye; id:535839\n",
      "Processing 35 of 625 | city:kruisfontein; id:986717\n",
      "Processing 36 of 625 | city:lufilufi; id:4035249\n",
      "Processing 37 of 625 | city:bahia blanca; id:3865086\n",
      "Processing 38 of 625 | city:ambarawa; id:1651555\n",
      "Processing 39 of 625 | city:busselton; id:2075265\n",
      "Processing 40 of 625 | city:manavalakurichi; id:1263942\n",
      "Processing 41 of 625 | city:ilulissat; id:3423146\n",
      "Processing 42 of 625 | city:avarua; id:4035715\n",
      "Processing 43 of 625 | city:longyearbyen; id:2729907\n",
      "Processing 44 of 625 | city:esso; id:2125711\n",
      "Processing 45 of 625 | city:altay; id:1529651\n",
      "Processing 46 of 625 | city:san ignacio; id:3581194\n",
      "Processing 47 of 625 | city:maryville; id:4639848\n",
      "Processing 48 of 625 | city:provideniya; id:4031574\n",
      "Processing 49 of 625 | city:mandalgovi; id:2030065\n",
      "Processing 50 of 625 | city:changli; id:1815656\n",
      "Processing 51 of 625 | city:tuktoyaktuk; id:6170031\n",
      "Processing 52 of 625 | city:sitka; id:5557293\n",
      "Processing 53 of 625 | city:puerto ayora; id:3652764\n",
      "Processing 54 of 625 | city:san luis; id:3837056\n",
      "Processing 55 of 625 | city:grand gaube; id:934479\n",
      "Processing 56 of 625 | city:upernavik; id:3418910\n",
      "Processing 57 of 625 | city:feicheng; id:1811440\n",
      "City not found. Skipping...\n",
      "Processing 58 of 625 | city:pak phanang; id:1608033\n",
      "Processing 59 of 625 | city:hithadhoo; id:1282256\n",
      "Processing 60 of 625 | city:marsabit; id:187585\n",
      "Processing 61 of 625 | city:charagua; id:3921141\n",
      "Processing 62 of 625 | city:nalut; id:2214432\n",
      "Processing 63 of 625 | city:alingsas; id:2726756\n",
      "Processing 64 of 625 | city:boundiali; id:2290836\n",
      "Processing 65 of 625 | city:bluff; id:2206939\n",
      "Processing 66 of 625 | city:hastings; id:2647356\n",
      "Processing 67 of 625 | city:chokurdakh; id:2126123\n",
      "Processing 68 of 625 | city:katsuura; id:2112309\n",
      "Processing 69 of 625 | city:torbat-e jam; id:1159362\n",
      "Processing 70 of 625 | city:husavik; id:2629833\n",
      "Processing 71 of 625 | city:wuwei; id:1803936\n",
      "Processing 72 of 625 | city:arlit; id:2447513\n",
      "Processing 73 of 625 | city:zyryanka; id:2119283\n",
      "Processing 74 of 625 | city:berlevag; id:780687\n",
      "Processing 75 of 625 | city:mar del plata; id:3430863\n",
      "Processing 76 of 625 | city:nikolskoye; id:546105\n",
      "Processing 77 of 625 | city:hilo; id:5855927\n",
      "Processing 78 of 625 | city:hobart; id:2163355\n",
      "Processing 79 of 625 | city:feni; id:1185224\n",
      "Processing 80 of 625 | city:bolu; id:750510\n",
      "Processing 81 of 625 | city:lorengau; id:2092164\n",
      "Processing 82 of 625 | city:port lincoln; id:2063036\n",
      "Processing 83 of 625 | city:cape town; id:3369157\n",
      "Processing 84 of 625 | city:vaini; id:4032243\n",
      "Processing 85 of 625 | city:hamilton; id:4513583\n",
      "Processing 86 of 625 | city:poum; id:2138555\n",
      "Processing 87 of 625 | city:thompson; id:6165406\n",
      "Processing 88 of 625 | city:lagunas; id:3695844\n",
      "Processing 89 of 625 | city:cornwall; id:5928065\n",
      "Processing 90 of 625 | city:russell; id:4047434\n",
      "City not found. Skipping...\n",
      "Processing 91 of 625 | city:kenai; id:5866063\n",
      "Processing 92 of 625 | city:fairbanks; id:5861897\n",
      "Processing 93 of 625 | city:pangnirtung; id:6096551\n",
      "Processing 94 of 625 | city:orapa; id:933186\n",
      "Processing 95 of 625 | city:pevek; id:2122090\n",
      "Processing 96 of 625 | city:vao; id:2137773\n",
      "Processing 97 of 625 | city:dunedin; id:2191562\n",
      "Processing 98 of 625 | city:yellowknife; id:6185377\n",
      "Processing 99 of 625 | city:waingapu; id:1622318\n",
      "City not found. Skipping...\n",
      "Processing 100 of 625 | city:constitucion; id:3893726\n",
      "Processing 101 of 625 | city:vestmannaeyjar; id:3412093\n",
      "Processing 102 of 625 | city:new norfolk; id:2155415\n",
      "Processing 103 of 625 | city:dover; id:4142290\n",
      "Processing 104 of 625 | city:khatanga; id:2022572\n",
      "Processing 105 of 625 | city:sabya; id:102651\n",
      "City not found. Skipping...\n",
      "Processing 106 of 625 | city:progreso; id:3521108\n",
      "City not found. Skipping...\n",
      "Processing 107 of 625 | city:port moresby; id:2088122\n",
      "City not found. Skipping...\n",
      "Processing 108 of 625 | city:aklavik; id:5882953\n",
      "Processing 109 of 625 | city:bulawayo; id:894701\n",
      "City not found. Skipping...\n",
      "City not found. Skipping...\n",
      "Processing 110 of 625 | city:nacala; id:1035025\n",
      "Processing 111 of 625 | city:tselinnoye; id:1489138\n",
      "Processing 112 of 625 | city:santiago del estero; id:3835869\n",
      "Processing 113 of 625 | city:butaritari; id:2110227\n",
      "Processing 114 of 625 | city:punta arenas; id:3874787\n",
      "Processing 115 of 625 | city:ponta do sol; id:2264557\n",
      "Processing 116 of 625 | city:puksoozero; id:504187\n",
      "Processing 117 of 625 | city:puerto quijarro; id:3444201\n",
      "Processing 118 of 625 | city:asau; id:686090\n",
      "Processing 119 of 625 | city:sao felix do xingu; id:3388847\n",
      "Processing 120 of 625 | city:shakawe; id:933077\n",
      "Processing 121 of 625 | city:houston; id:4699066\n",
      "Processing 122 of 625 | city:krasnokamensk; id:2021618\n",
      "Processing 123 of 625 | city:bambous virieux; id:1106677\n",
      "Processing 124 of 625 | city:arraial do cabo; id:3471451\n",
      "Processing 125 of 625 | city:oranjemund; id:3354071\n",
      "City not found. Skipping...\n",
      "Processing 126 of 625 | city:bulgan; id:2032201\n",
      "Processing 127 of 625 | city:east london; id:1006984\n",
      "Processing 128 of 625 | city:abalak; id:1512223\n",
      "Processing 129 of 625 | city:bagru; id:1273690\n",
      "Processing 130 of 625 | city:san lawrenz; id:2562619\n",
      "Processing 131 of 625 | city:bowen; id:2174444\n",
      "Processing 132 of 625 | city:norman wells; id:6089245\n",
      "Processing 133 of 625 | city:puerto escondido; id:3520994\n",
      "Processing 134 of 625 | city:oksfjord; id:778362\n",
      "Processing 135 of 625 | city:lebanon; id:4636045\n",
      "Processing 136 of 625 | city:rio grande; id:3451138\n",
      "Processing 137 of 625 | city:caravelas; id:3466980\n",
      "Processing 138 of 625 | city:la ronge; id:6050066\n",
      "Processing 139 of 625 | city:saint paul; id:5045360\n",
      "Processing 140 of 625 | city:paciran; id:1633442\n",
      "Processing 141 of 625 | city:palana; id:2122262\n",
      "Processing 142 of 625 | city:ostrovnoy; id:556268\n",
      "Processing 143 of 625 | city:aramil; id:1511466\n",
      "Processing 144 of 625 | city:slave lake; id:6149374\n",
      "Processing 145 of 625 | city:de-kastri; id:2126018\n",
      "City not found. Skipping...\n",
      "Processing 146 of 625 | city:alvorada; id:3472404\n",
      "Processing 147 of 625 | city:hasaki; id:2112802\n",
      "Processing 148 of 625 | city:aykhal; id:2027296\n",
      "Processing 149 of 625 | city:vardo; id:777019\n",
      "Processing 150 of 625 | city:victoria; id:1819729\n",
      "Processing 151 of 625 | city:nanortalik; id:3421765\n",
      "Processing 152 of 625 | city:tiksi; id:2015306\n",
      "Processing 153 of 625 | city:cabo san lucas; id:3985710\n",
      "City not found. Skipping...\n",
      "Processing 154 of 625 | city:maceio; id:3395981\n",
      "Processing 155 of 625 | city:riohacha; id:3670745\n",
      "City not found. Skipping...\n",
      "Processing 156 of 625 | city:dingle; id:1714733\n",
      "City not found. Skipping...\n",
      "Processing 157 of 625 | city:nantucket; id:4944903\n",
      "City not found. Skipping...\n",
      "Processing 158 of 625 | city:nichinan; id:1855476\n",
      "Processing 159 of 625 | city:odweyne; id:53372\n"
     ]
    },
    {
     "name": "stdout",
     "output_type": "stream",
     "text": [
      "Processing 160 of 625 | city:baker city; id:5712169\n",
      "Processing 161 of 625 | city:khasan; id:2039557\n",
      "Processing 162 of 625 | city:amapa; id:3407762\n",
      "Processing 163 of 625 | city:esperance; id:2071860\n",
      "Processing 164 of 625 | city:tigil; id:2120612\n",
      "Processing 165 of 625 | city:cherskiy; id:2126199\n",
      "City not found. Skipping...\n",
      "City not found. Skipping...\n",
      "Processing 166 of 625 | city:akcakoca; id:752584\n",
      "Processing 167 of 625 | city:saskylakh; id:2017155\n",
      "Processing 168 of 625 | city:carnarvon; id:2074865\n",
      "Processing 169 of 625 | city:nuuk; id:3421319\n",
      "Processing 170 of 625 | city:langres; id:3007679\n",
      "Processing 171 of 625 | city:puerto madryn; id:3840092\n",
      "Processing 172 of 625 | city:medicine hat; id:6071618\n",
      "Processing 173 of 625 | city:turukhansk; id:1488903\n",
      "Processing 174 of 625 | city:hirara; id:1862505\n",
      "Processing 175 of 625 | city:belaya gora; id:2126785\n",
      "Processing 176 of 625 | city:penzance; id:2640377\n",
      "Processing 177 of 625 | city:sao raimundo nonato; id:3388145\n",
      "Processing 178 of 625 | city:te anau; id:2181625\n",
      "Processing 179 of 625 | city:safford; id:5312476\n",
      "Processing 180 of 625 | city:codrington; id:2171099\n",
      "Processing 181 of 625 | city:roald; id:3141667\n",
      "Processing 182 of 625 | city:wethersfield; id:4845612\n",
      "Processing 183 of 625 | city:vanavara; id:2013727\n",
      "Processing 184 of 625 | city:marawi; id:1701054\n",
      "Processing 185 of 625 | city:gat; id:293842\n",
      "Processing 186 of 625 | city:kloulklubed; id:7671223\n",
      "Processing 187 of 625 | city:xixiang; id:1788206\n",
      "Processing 188 of 625 | city:port blair; id:1259385\n",
      "Processing 189 of 625 | city:garowe; id:58933\n",
      "Processing 190 of 625 | city:nome; id:5870133\n",
      "Processing 191 of 625 | city:sao filipe; id:3374210\n",
      "Processing 192 of 625 | city:chuy; id:3443061\n",
      "Processing 193 of 625 | city:idlib; id:169389\n",
      "Processing 194 of 625 | city:souillac; id:933995\n",
      "Processing 195 of 625 | city:castro; id:3466704\n",
      "Processing 196 of 625 | city:adre; id:245669\n",
      "Processing 197 of 625 | city:vokhtoga; id:472878\n",
      "Processing 198 of 625 | city:ahuimanu; id:5856516\n",
      "Processing 199 of 625 | city:namatanai; id:2090021\n",
      "Processing 200 of 625 | city:srednekolymsk; id:2121025\n",
      "Processing 201 of 625 | city:ballina; id:2177069\n",
      "Processing 202 of 625 | city:makakilo city; id:5850554\n",
      "City not found. Skipping...\n",
      "Processing 203 of 625 | city:kon tum; id:1578500\n",
      "Processing 204 of 625 | city:urucara; id:3385670\n",
      "Processing 205 of 625 | city:barrow; id:5880054\n",
      "Processing 206 of 625 | city:faanui; id:4034551\n",
      "Processing 207 of 625 | city:coruripe; id:3465329\n",
      "Processing 208 of 625 | city:ancud; id:3899695\n",
      "Processing 209 of 625 | city:kodiak; id:5866583\n",
      "Processing 210 of 625 | city:pokaran; id:1259460\n",
      "Processing 211 of 625 | city:georgetown; id:1735106\n",
      "Processing 212 of 625 | city:maniitsoq; id:3421982\n",
      "Processing 213 of 625 | city:caluquembe; id:3351024\n",
      "City not found. Skipping...\n",
      "City not found. Skipping...\n",
      "City not found. Skipping...\n",
      "Processing 214 of 625 | city:lompoc; id:5367788\n",
      "Processing 215 of 625 | city:bell ville; id:3864331\n",
      "Processing 216 of 625 | city:lanzhou; id:1804430\n",
      "Processing 217 of 625 | city:saldanha; id:3361934\n",
      "Processing 218 of 625 | city:jinchang; id:1805733\n",
      "Processing 219 of 625 | city:ardakan; id:143073\n",
      "Processing 220 of 625 | city:raudeberg; id:3146487\n",
      "Processing 221 of 625 | city:kampot; id:1831112\n",
      "Processing 222 of 625 | city:balabac; id:1728675\n",
      "Processing 223 of 625 | city:atar; id:2381334\n",
      "Processing 224 of 625 | city:punjai puliyampatti; id:1259222\n",
      "Processing 225 of 625 | city:dolny kubin; id:3060405\n",
      "Processing 226 of 625 | city:kigoma; id:157738\n",
      "Processing 227 of 625 | city:juneau; id:5554072\n",
      "Processing 228 of 625 | city:tiruchchendur; id:1254390\n",
      "Processing 229 of 625 | city:atbasar; id:1526038\n",
      "Processing 230 of 625 | city:lasa; id:3175096\n",
      "Processing 231 of 625 | city:bengkulu; id:1649150\n",
      "City not found. Skipping...\n",
      "Processing 232 of 625 | city:zabid; id:69500\n",
      "Processing 233 of 625 | city:finnsnes; id:3157549\n",
      "Processing 234 of 625 | city:mushie; id:2312249\n",
      "City not found. Skipping...\n",
      "Processing 235 of 625 | city:kaitangata; id:2208248\n",
      "Processing 236 of 625 | city:dragoesti; id:678942\n",
      "Processing 237 of 625 | city:yavoriv; id:688288\n",
      "Processing 238 of 625 | city:broome; id:5110365\n",
      "Processing 239 of 625 | city:quatre cocos; id:1106643\n",
      "Processing 240 of 625 | city:kang; id:933692\n",
      "Processing 241 of 625 | city:samarai; id:2132606\n",
      "Processing 242 of 625 | city:shingu; id:1847947\n",
      "Processing 243 of 625 | city:tautira; id:4033557\n",
      "Processing 244 of 625 | city:nemuro; id:2128975\n",
      "Processing 245 of 625 | city:singaraja; id:1626932\n",
      "Processing 246 of 625 | city:borzya; id:2026126\n",
      "Processing 247 of 625 | city:honiara; id:2108502\n",
      "Processing 248 of 625 | city:pierre; id:5767918\n",
      "Processing 249 of 625 | city:boyolangu; id:1648082\n",
      "Processing 250 of 625 | city:forestville; id:4355274\n",
      "Processing 251 of 625 | city:ucluelet; id:6171633\n",
      "Processing 252 of 625 | city:rocha; id:3440777\n",
      "Processing 253 of 625 | city:kiruna; id:605155\n",
      "Processing 254 of 625 | city:sayat; id:1218436\n",
      "Processing 255 of 625 | city:plettenberg bay; id:964712\n",
      "Processing 256 of 625 | city:tombouctou; id:2449066\n",
      "Processing 257 of 625 | city:kautokeino; id:779330\n",
      "Processing 258 of 625 | city:ust-tsilma; id:477940\n",
      "Processing 259 of 625 | city:hualmay; id:3939761\n",
      "Processing 260 of 625 | city:giyani; id:1001860\n",
      "Processing 261 of 625 | city:jiayuguan; id:1280957\n",
      "Processing 262 of 625 | city:bonthe; id:2409914\n",
      "Processing 263 of 625 | city:vung tau; id:1562414\n",
      "Processing 264 of 625 | city:pisco; id:3932145\n",
      "Processing 265 of 625 | city:songjianghe; id:2034691\n",
      "Processing 266 of 625 | city:san joaquin; id:3628267\n",
      "Processing 267 of 625 | city:amga; id:2027786\n",
      "Processing 268 of 625 | city:mahebourg; id:934322\n",
      "Processing 269 of 625 | city:avera; id:4231997\n",
      "Processing 270 of 625 | city:careiro da varzea; id:3402920\n",
      "Processing 271 of 625 | city:adrar; id:2381972\n",
      "Processing 272 of 625 | city:batemans bay; id:2176639\n",
      "Processing 273 of 625 | city:cidreira; id:3466165\n",
      "Processing 274 of 625 | city:aldan; id:2027968\n",
      "Processing 275 of 625 | city:kavaratti; id:1267390\n",
      "Processing 276 of 625 | city:jalingo; id:2336589\n",
      "Processing 277 of 625 | city:torbay; id:6167817\n",
      "Processing 278 of 625 | city:salalah; id:286621\n",
      "Processing 279 of 625 | city:johi; id:1175678\n",
      "Processing 280 of 625 | city:lumeje; id:876123\n",
      "City not found. Skipping...\n",
      "Processing 281 of 625 | city:alice springs; id:2077895\n",
      "City not found. Skipping...\n",
      "Processing 282 of 625 | city:santa maria; id:3450083\n",
      "City not found. Skipping...\n",
      "Processing 283 of 625 | city:clovis; id:5338122\n",
      "City not found. Skipping...\n",
      "Processing 284 of 625 | city:aksarka; id:1512019\n",
      "Processing 285 of 625 | city:ahipara; id:2194098\n",
      "Processing 286 of 625 | city:bud; id:4255151\n",
      "Processing 287 of 625 | city:cairns; id:2172797\n",
      "Processing 288 of 625 | city:sabaudia; id:3168764\n",
      "Processing 289 of 625 | city:prince rupert; id:6113406\n",
      "Processing 290 of 625 | city:pemberton; id:6100799\n",
      "Processing 291 of 625 | city:tual; id:1623197\n",
      "Processing 292 of 625 | city:murwillumbah; id:2156049\n",
      "Processing 293 of 625 | city:paliyad; id:1260706\n",
      "Processing 294 of 625 | city:north platte; id:5697939\n",
      "City not found. Skipping...\n",
      "Processing 295 of 625 | city:iqaluit; id:5983720\n",
      "Processing 296 of 625 | city:urusha; id:2014078\n",
      "Processing 297 of 625 | city:mehamn; id:778707\n",
      "Processing 298 of 625 | city:tiznit; id:2527087\n",
      "Processing 299 of 625 | city:sretensk; id:2016110\n",
      "Processing 300 of 625 | city:viedma; id:3832899\n",
      "Processing 301 of 625 | city:huainan; id:1807681\n",
      "Processing 302 of 625 | city:saint george; id:5546220\n",
      "Processing 303 of 625 | city:pacifica; id:5380420\n",
      "Processing 304 of 625 | city:obo; id:236950\n",
      "Processing 305 of 625 | city:port macquarie; id:2152659\n",
      "Processing 306 of 625 | city:papetoai; id:4033910\n",
      "City not found. Skipping...\n",
      "Processing 307 of 625 | city:iquique; id:3887127\n",
      "Processing 308 of 625 | city:milazzo; id:2524155\n",
      "Processing 309 of 625 | city:sakaiminato; id:1853174\n",
      "City not found. Skipping...\n",
      "Processing 310 of 625 | city:tukrah; id:88834\n",
      "Processing 311 of 625 | city:flagstaff; id:5294810\n",
      "Processing 312 of 625 | city:lagoa; id:3372964\n",
      "Processing 313 of 625 | city:general roca; id:3855065\n",
      "Processing 314 of 625 | city:san patricio; id:3985168\n",
      "City not found. Skipping...\n",
      "Processing 315 of 625 | city:paoua; id:2383523\n",
      "Processing 316 of 625 | city:van; id:298117\n",
      "Processing 317 of 625 | city:kupang; id:2057087\n"
     ]
    },
    {
     "name": "stdout",
     "output_type": "stream",
     "text": [
      "Processing 318 of 625 | city:catamayo; id:3659599\n",
      "Processing 319 of 625 | city:caceres; id:2520610\n",
      "City not found. Skipping...\n",
      "Processing 320 of 625 | city:troitskoye; id:1489209\n",
      "Processing 321 of 625 | city:pecos; id:5528182\n",
      "Processing 322 of 625 | city:taksimo; id:2015701\n",
      "City not found. Skipping...\n",
      "Processing 323 of 625 | city:sept-iles; id:6144312\n",
      "Processing 324 of 625 | city:lavrentiya; id:4031637\n",
      "Processing 325 of 625 | city:kulhudhuffushi; id:1337613\n",
      "Processing 326 of 625 | city:west wendover; id:5710035\n",
      "Processing 327 of 625 | city:la palma; id:5364022\n",
      "Processing 328 of 625 | city:naze; id:1855540\n",
      "Processing 329 of 625 | city:harrismith; id:997751\n",
      "Processing 330 of 625 | city:oktyabrskoye; id:515805\n",
      "Processing 331 of 625 | city:batsfjord; id:780717\n",
      "City not found. Skipping...\n",
      "Processing 332 of 625 | city:hereford; id:2647074\n",
      "Processing 333 of 625 | city:zyukayka; id:461756\n",
      "Processing 334 of 625 | city:dwarka; id:1272140\n",
      "Processing 335 of 625 | city:rawson; id:3839307\n",
      "Processing 336 of 625 | city:galveston; id:4692856\n",
      "Processing 337 of 625 | city:sembe; id:2255304\n",
      "Processing 338 of 625 | city:bajil; id:77408\n",
      "Processing 339 of 625 | city:mount isa; id:2065594\n",
      "City not found. Skipping...\n",
      "Processing 340 of 625 | city:flinders; id:6255012\n",
      "Processing 341 of 625 | city:avila; id:3129138\n",
      "Processing 342 of 625 | city:hambantota; id:1244926\n",
      "Processing 343 of 625 | city:bukachacha; id:2026023\n",
      "Processing 344 of 625 | city:boffa; id:2422968\n",
      "Processing 345 of 625 | city:pindobacu; id:3453827\n",
      "Processing 346 of 625 | city:dingli; id:2563140\n",
      "Processing 347 of 625 | city:katherine; id:2068655\n",
      "Processing 348 of 625 | city:mumbwa; id:904422\n",
      "City not found. Skipping...\n",
      "Processing 349 of 625 | city:kahului; id:5847411\n",
      "Processing 350 of 625 | city:vilhena; id:3924679\n",
      "Processing 351 of 625 | city:basse; id:3221033\n",
      "Processing 352 of 625 | city:gamba; id:2400547\n",
      "Processing 353 of 625 | city:kavieng; id:2094342\n",
      "City not found. Skipping...\n",
      "City not found. Skipping...\n",
      "Processing 354 of 625 | city:bilma; id:2446796\n",
      "Processing 355 of 625 | city:bom jesus; id:3405304\n",
      "Processing 356 of 625 | city:wittingen; id:2807257\n",
      "Processing 357 of 625 | city:korla; id:1529376\n",
      "Processing 358 of 625 | city:vavozh; id:476343\n",
      "Processing 359 of 625 | city:mezhdurechensk; id:1498920\n",
      "Processing 360 of 625 | city:hobyo; id:57000\n",
      "Processing 361 of 625 | city:narsaq; id:3421719\n",
      "City not found. Skipping...\n",
      "Processing 362 of 625 | city:kawalu; id:1640902\n",
      "Processing 363 of 625 | city:lieksa; id:648090\n",
      "Processing 364 of 625 | city:rawah; id:92004\n",
      "Processing 365 of 625 | city:centenario do sul; id:3466470\n",
      "Processing 366 of 625 | city:tuatapere; id:2180815\n",
      "Processing 367 of 625 | city:sayhat; id:102318\n",
      "Processing 368 of 625 | city:ambon; id:1651531\n",
      "Processing 369 of 625 | city:rzhev; id:499717\n",
      "Processing 370 of 625 | city:ambulu; id:1621313\n",
      "Processing 371 of 625 | city:valparaiso; id:3868626\n",
      "Processing 372 of 625 | city:maltahohe; id:3355624\n",
      "Processing 373 of 625 | city:paamiut; id:3421193\n",
      "Processing 374 of 625 | city:beloha; id:1067565\n",
      "Processing 375 of 625 | city:tenenkou; id:2449938\n",
      "Processing 376 of 625 | city:galatas; id:262143\n",
      "Processing 377 of 625 | city:mulki; id:1262546\n",
      "Processing 378 of 625 | city:muros; id:3115824\n",
      "Processing 379 of 625 | city:leningradskiy; id:2123814\n",
      "City not found. Skipping...\n",
      "Processing 380 of 625 | city:busayra; id:249842\n",
      "Processing 381 of 625 | city:auki; id:2109701\n",
      "Processing 382 of 625 | city:geraldton; id:2070998\n",
      "Processing 383 of 625 | city:chase; id:5920381\n",
      "Processing 384 of 625 | city:villamontes; id:3901547\n",
      "Processing 385 of 625 | city:comodoro rivadavia; id:3860443\n",
      "Processing 386 of 625 | city:fortuna; id:5563839\n",
      "Processing 387 of 625 | city:anadyr; id:2127202\n",
      "Processing 388 of 625 | city:maningrida; id:2067089\n",
      "Processing 389 of 625 | city:lae; id:2092740\n",
      "Processing 390 of 625 | city:havre-saint-pierre; id:5972291\n",
      "Processing 391 of 625 | city:mon; id:1262824\n",
      "Processing 392 of 625 | city:homer; id:5864145\n",
      "Processing 393 of 625 | city:vincennes; id:6613142\n",
      "Processing 394 of 625 | city:ketchikan; id:5554428\n",
      "Processing 395 of 625 | city:hami; id:1529484\n",
      "Processing 396 of 625 | city:athabasca; id:5887916\n",
      "Processing 397 of 625 | city:luanda; id:2240449\n",
      "Processing 398 of 625 | city:northam; id:2641434\n",
      "Processing 399 of 625 | city:seoul; id:1835848\n",
      "Processing 400 of 625 | city:barda; id:587057\n",
      "Processing 401 of 625 | city:qui nhon; id:1568574\n",
      "Processing 402 of 625 | city:mabaruma; id:3377301\n",
      "City not found. Skipping...\n",
      "Processing 403 of 625 | city:omboue; id:2396853\n",
      "Processing 404 of 625 | city:zhigansk; id:2012530\n",
      "Processing 405 of 625 | city:jaque; id:3708432\n",
      "Processing 406 of 625 | city:romano di lombardia; id:3169056\n",
      "Processing 407 of 625 | city:amot; id:3163198\n",
      "Processing 408 of 625 | city:glenwood springs; id:5423092\n",
      "City not found. Skipping...\n",
      "Processing 409 of 625 | city:buchanan; id:2278158\n",
      "Processing 410 of 625 | city:laguna; id:5364271\n",
      "Processing 411 of 625 | city:princeton; id:4169345\n",
      "Processing 412 of 625 | city:inirida; id:3671450\n",
      "Processing 413 of 625 | city:riyadh; id:108410\n",
      "Processing 414 of 625 | city:yeppoon; id:2142316\n",
      "Processing 415 of 625 | city:half moon bay; id:5354943\n",
      "Processing 416 of 625 | city:komsomolskiy; id:1513491\n",
      "Processing 417 of 625 | city:muhos; id:645765\n",
      "Processing 418 of 625 | city:sosnovo-ozerskoye; id:2016216\n",
      "Processing 419 of 625 | city:meulaboh; id:1214488\n",
      "Processing 420 of 625 | city:albuquerque; id:5454711\n",
      "Processing 421 of 625 | city:kokopo; id:2093685\n",
      "Processing 422 of 625 | city:dhidhdhoo; id:1337612\n",
      "Processing 423 of 625 | city:micheweni; id:153955\n",
      "Processing 424 of 625 | city:skelleftea; id:602913\n",
      "Processing 425 of 625 | city:sechura; id:3691954\n",
      "Processing 426 of 625 | city:barentu; id:342711\n",
      "Processing 427 of 625 | city:charters towers; id:2171722\n",
      "City not found. Skipping...\n",
      "Processing 428 of 625 | city:okhotsk; id:2122605\n",
      "Processing 429 of 625 | city:ponta delgada; id:3372783\n",
      "Processing 430 of 625 | city:saint anthony; id:5044290\n",
      "Processing 431 of 625 | city:manoel urbano; id:3663495\n",
      "Processing 432 of 625 | city:pacific grove; id:5380437\n",
      "Processing 433 of 625 | city:shimoda; id:1852357\n",
      "Processing 434 of 625 | city:lebu; id:3883457\n",
      "Processing 435 of 625 | city:richards bay; id:962367\n",
      "Processing 436 of 625 | city:clyde river; id:5924351\n",
      "Processing 437 of 625 | city:coquimbo; id:3893629\n",
      "Processing 438 of 625 | city:kralendijk; id:3513563\n",
      "Processing 439 of 625 | city:pemangkat; id:1631637\n",
      "Processing 440 of 625 | city:kununurra; id:2068110\n",
      "Processing 441 of 625 | city:la baule-escoublac; id:3019766\n",
      "Processing 442 of 625 | city:saint-pierre; id:935214\n",
      "Processing 443 of 625 | city:boa esperanca do sul; id:3469910\n",
      "Processing 444 of 625 | city:taltal; id:3870243\n",
      "Processing 445 of 625 | city:bezhanitsy; id:576572\n",
      "Processing 446 of 625 | city:tucupita; id:3625929\n",
      "Processing 447 of 625 | city:mondragon; id:1699342\n",
      "Processing 448 of 625 | city:najran; id:103630\n",
      "Processing 449 of 625 | city:san juan del sur; id:3616726\n",
      "Processing 450 of 625 | city:arroio grande; id:3471422\n",
      "Processing 451 of 625 | city:bay roberts; id:5895424\n",
      "Processing 452 of 625 | city:deputatskiy; id:2028164\n",
      "Processing 453 of 625 | city:petropavlovsk-kamchatskiy; id:2122104\n",
      "Processing 454 of 625 | city:nova friburgo; id:3456166\n",
      "Processing 455 of 625 | city:parnu-jaagupi; id:589578\n",
      "Processing 456 of 625 | city:palmer; id:4946620\n",
      "Processing 457 of 625 | city:karpogory; id:552256\n",
      "Processing 458 of 625 | city:nabire; id:1634614\n",
      "Processing 459 of 625 | city:hovd; id:1516048\n",
      "Processing 460 of 625 | city:magdagachi; id:2020591\n",
      "City not found. Skipping...\n",
      "Processing 461 of 625 | city:sao joao da barra; id:3448903\n",
      "Processing 462 of 625 | city:keti bandar; id:1174451\n",
      "Processing 463 of 625 | city:zmeinogorsk; id:1485042\n",
      "Processing 464 of 625 | city:sur; id:286245\n",
      "Processing 465 of 625 | city:cayenne; id:3382160\n",
      "Processing 466 of 625 | city:ixtapa; id:4004293\n",
      "Processing 467 of 625 | city:winchester; id:2633858\n",
      "Processing 468 of 625 | city:maria aurora; id:1700994\n",
      "Processing 469 of 625 | city:belozerskoye; id:1510421\n",
      "Processing 470 of 625 | city:sola; id:2134814\n",
      "Processing 471 of 625 | city:palafrugell; id:3114567\n",
      "Processing 472 of 625 | city:brattvag; id:3160310\n",
      "City not found. Skipping...\n"
     ]
    },
    {
     "name": "stdout",
     "output_type": "stream",
     "text": [
      "Processing 473 of 625 | city:oistins; id:3373652\n",
      "Processing 474 of 625 | city:saint-leu; id:6690297\n",
      "Processing 475 of 625 | city:zelenoborsk; id:1485286\n",
      "Processing 476 of 625 | city:bela; id:1276574\n",
      "Processing 477 of 625 | city:brigantine; id:4500920\n",
      "Processing 478 of 625 | city:tabou; id:2281120\n",
      "Processing 479 of 625 | city:lamar; id:4705086\n",
      "Processing 480 of 625 | city:coihaique; id:3894426\n",
      "Processing 481 of 625 | city:sasykoli; id:498437\n",
      "Processing 482 of 625 | city:nezhinka; id:522312\n",
      "Processing 483 of 625 | city:miandrivazo; id:1059051\n",
      "Processing 484 of 625 | city:luderitz; id:3355672\n",
      "Processing 485 of 625 | city:cururupu; id:3401148\n",
      "Processing 486 of 625 | city:grand-santi; id:3381538\n",
      "Processing 487 of 625 | city:peachland; id:6100086\n",
      "Processing 488 of 625 | city:san quintin; id:3984997\n",
      "Processing 489 of 625 | city:jatiroto; id:1642692\n",
      "City not found. Skipping...\n",
      "Processing 490 of 625 | city:bilecik; id:321122\n",
      "Processing 491 of 625 | city:la rioja; id:3336897\n",
      "Processing 492 of 625 | city:tsalenjikha; id:611551\n",
      "Processing 493 of 625 | city:lubango; id:3347762\n",
      "Processing 494 of 625 | city:kota tinggi; id:1732738\n",
      "Processing 495 of 625 | city:guerrero negro; id:4021858\n",
      "Processing 496 of 625 | city:mramor; id:3194773\n",
      "Processing 497 of 625 | city:gandara; id:1713262\n",
      "City not found. Skipping...\n",
      "Processing 498 of 625 | city:eenhana; id:3357804\n",
      "Processing 499 of 625 | city:hanzhong; id:1808857\n",
      "Processing 500 of 625 | city:inzer; id:556279\n",
      "Processing 501 of 625 | city:saint-joseph; id:6690296\n",
      "Processing 502 of 625 | city:vila franca do campo; id:3372472\n",
      "Processing 503 of 625 | city:san carlos de bariloche; id:7647007\n",
      "Processing 504 of 625 | city:paralimni; id:146209\n",
      "Processing 505 of 625 | city:upington; id:945945\n",
      "Processing 506 of 625 | city:college; id:5859699\n",
      "Processing 507 of 625 | city:shenzhen; id:1795565\n",
      "Processing 508 of 625 | city:sambava; id:1056899\n",
      "Processing 509 of 625 | city:mandal; id:1263917\n",
      "Processing 510 of 625 | city:pedernales; id:3495137\n",
      "Processing 511 of 625 | city:naryan-mar; id:523392\n",
      "Processing 512 of 625 | city:ternate; id:1624041\n",
      "Processing 513 of 625 | city:vanimo; id:2084442\n",
      "City not found. Skipping...\n",
      "City not found. Skipping...\n",
      "Processing 514 of 625 | city:verkhnevilyuysk; id:2013639\n",
      "Processing 515 of 625 | city:stephenville; id:4734350\n",
      "Processing 516 of 625 | city:aranos; id:3358666\n",
      "Processing 517 of 625 | city:porto torres; id:3170069\n",
      "Processing 518 of 625 | city:batagay-alyta; id:2027042\n",
      "Processing 519 of 625 | city:svetlogorsk; id:10722858\n",
      "Processing 520 of 625 | city:dongsheng; id:1812256\n",
      "Processing 521 of 625 | city:pochutla; id:3517970\n",
      "Processing 522 of 625 | city:morehead; id:4301317\n",
      "Processing 523 of 625 | city:san policarpo; id:1688696\n",
      "Processing 524 of 625 | city:quimper; id:2984701\n",
      "Processing 525 of 625 | city:port hueneme; id:5384339\n",
      "Processing 526 of 625 | city:kirakira; id:2178753\n",
      "Processing 527 of 625 | city:tanggulangin; id:1625067\n",
      "Processing 528 of 625 | city:san andres; id:3670218\n",
      "Processing 529 of 625 | city:tessalit; id:2449893\n",
      "Processing 530 of 625 | city:merauke; id:2082539\n",
      "City not found. Skipping...\n",
      "Processing 531 of 625 | city:jutai; id:3663693\n",
      "Processing 532 of 625 | city:tateyama; id:1850523\n",
      "Processing 533 of 625 | city:kamaishi; id:2112444\n",
      "Processing 534 of 625 | city:yurkivka; id:688052\n",
      "Processing 535 of 625 | city:sorland; id:3137469\n",
      "Processing 536 of 625 | city:omis; id:3194114\n",
      "Processing 537 of 625 | city:bratsk; id:2051523\n",
      "Processing 538 of 625 | city:nishihara; id:1855342\n",
      "Processing 539 of 625 | city:tongling; id:1792621\n",
      "Processing 540 of 625 | city:bilibino; id:2126682\n",
      "Processing 541 of 625 | city:betare oya; id:2234339\n",
      "Processing 542 of 625 | city:buala; id:2109528\n",
      "Processing 543 of 625 | city:pahrump; id:5509851\n",
      "Processing 544 of 625 | city:tazovskiy; id:1489853\n",
      "Processing 545 of 625 | city:hobe sound; id:4158758\n",
      "Processing 546 of 625 | city:kilindoni; id:157429\n",
      "City not found. Skipping...\n",
      "Processing 547 of 625 | city:nokaneng; id:933211\n",
      "Processing 548 of 625 | city:salinas; id:5391295\n",
      "Processing 549 of 625 | city:rio de janeiro; id:3451190\n",
      "Processing 550 of 625 | city:siyabuswa; id:955313\n",
      "Processing 551 of 625 | city:port-gentil; id:2396518\n",
      "Processing 552 of 625 | city:canete; id:3896924\n",
      "Processing 553 of 625 | city:johnson city; id:4633419\n",
      "Processing 554 of 625 | city:karratha; id:6620339\n",
      "Processing 555 of 625 | city:muroran; id:2129101\n",
      "Processing 556 of 625 | city:portland; id:5746545\n",
      "Processing 557 of 625 | city:high level; id:5975004\n",
      "Processing 558 of 625 | city:pringsewu; id:1630639\n",
      "Processing 559 of 625 | city:locri; id:2524371\n",
      "Processing 560 of 625 | city:juye; id:1804892\n",
      "Processing 561 of 625 | city:ziarat; id:1162094\n",
      "Processing 562 of 625 | city:xiamen; id:1790645\n",
      "Processing 563 of 625 | city:abu samrah; id:172515\n",
      "Processing 564 of 625 | city:itarema; id:3393692\n",
      "Processing 565 of 625 | city:colac; id:2171069\n",
      "Processing 566 of 625 | city:abay; id:1526970\n",
      "Processing 567 of 625 | city:rio gallegos; id:3838859\n",
      "Processing 568 of 625 | city:roma; id:5134295\n",
      "Processing 569 of 625 | city:rundu; id:3353383\n",
      "City not found. Skipping...\n",
      "Processing 570 of 625 | city:bairiki; id:7601762\n",
      "Processing 571 of 625 | city:saint-francois; id:2980080\n",
      "--------------------------\n",
      "Data Retrieval Complete\n",
      "--------------------------\n"
     ]
    }
   ],
   "source": [
    "# define count for keeping track of each city\n",
    "count = 1\n",
    "\n",
    "# create loop to grab info and put into above lists\n",
    "for city in cities:\n",
    "#    \n",
    "    try:\n",
    "        response = requests.get(query_url + city + \"&units=\" + units).json()\n",
    "        cityID = response['id']\n",
    "        lat.append(response['coord']['lat'])\n",
    "        lng.append(response['coord']['lon'])\n",
    "        maxTemp.append(response['main']['temp_max'])\n",
    "        humidity.append(response['main']['humidity'])\n",
    "        cloudiness.append(response['clouds']['all'])\n",
    "        windSpeed.append(response['wind']['speed'])\n",
    "        date.append(response['dt'])\n",
    "        country.append(response['sys']['country'])\n",
    "        cityList.append(city)\n",
    "        print(f\"Processing {count} of {totalCities} | city:{city}; id:{cityID}\")\n",
    "        count = count+1\n",
    "    except:\n",
    "        print(f\"City not found. Skipping...\")\n",
    "   \n",
    "\n",
    "print(\"--------------------------\")\n",
    "print(f\"Data Retrieval Complete\")\n",
    "print(\"--------------------------\")\n"
   ]
  },
  {
   "cell_type": "markdown",
   "metadata": {},
   "source": [
    "### Convert Raw Data to DataFrame\n",
    "* Export the city data into a .csv.\n",
    "* Display the DataFrame"
   ]
  },
  {
   "cell_type": "code",
   "execution_count": 23,
   "metadata": {},
   "outputs": [
    {
     "data": {
      "text/html": [
       "<div>\n",
       "<style scoped>\n",
       "    .dataframe tbody tr th:only-of-type {\n",
       "        vertical-align: middle;\n",
       "    }\n",
       "\n",
       "    .dataframe tbody tr th {\n",
       "        vertical-align: top;\n",
       "    }\n",
       "\n",
       "    .dataframe thead th {\n",
       "        text-align: right;\n",
       "    }\n",
       "</style>\n",
       "<table border=\"1\" class=\"dataframe\">\n",
       "  <thead>\n",
       "    <tr style=\"text-align: right;\">\n",
       "      <th></th>\n",
       "      <th>City</th>\n",
       "      <th>Lat</th>\n",
       "      <th>Lng</th>\n",
       "      <th>Max Temp</th>\n",
       "      <th>Humidity</th>\n",
       "      <th>Cloudiness</th>\n",
       "      <th>Wind Speed</th>\n",
       "      <th>Country</th>\n",
       "      <th>Date</th>\n",
       "    </tr>\n",
       "  </thead>\n",
       "  <tbody>\n",
       "    <tr>\n",
       "      <th>0</th>\n",
       "      <td>ribeira grande</td>\n",
       "      <td>38.52</td>\n",
       "      <td>-28.70</td>\n",
       "      <td>62.60</td>\n",
       "      <td>72</td>\n",
       "      <td>40</td>\n",
       "      <td>8.05</td>\n",
       "      <td>PT</td>\n",
       "      <td>1592169751</td>\n",
       "    </tr>\n",
       "    <tr>\n",
       "      <th>1</th>\n",
       "      <td>faya</td>\n",
       "      <td>18.39</td>\n",
       "      <td>42.45</td>\n",
       "      <td>75.20</td>\n",
       "      <td>46</td>\n",
       "      <td>97</td>\n",
       "      <td>1.12</td>\n",
       "      <td>SA</td>\n",
       "      <td>1592169751</td>\n",
       "    </tr>\n",
       "    <tr>\n",
       "      <th>2</th>\n",
       "      <td>qaanaaq</td>\n",
       "      <td>77.48</td>\n",
       "      <td>-69.36</td>\n",
       "      <td>41.83</td>\n",
       "      <td>69</td>\n",
       "      <td>0</td>\n",
       "      <td>5.88</td>\n",
       "      <td>GL</td>\n",
       "      <td>1592169751</td>\n",
       "    </tr>\n",
       "    <tr>\n",
       "      <th>3</th>\n",
       "      <td>hermanus</td>\n",
       "      <td>-34.42</td>\n",
       "      <td>19.23</td>\n",
       "      <td>52.00</td>\n",
       "      <td>96</td>\n",
       "      <td>89</td>\n",
       "      <td>1.07</td>\n",
       "      <td>ZA</td>\n",
       "      <td>1592169751</td>\n",
       "    </tr>\n",
       "    <tr>\n",
       "      <th>4</th>\n",
       "      <td>mahina</td>\n",
       "      <td>-17.51</td>\n",
       "      <td>-149.49</td>\n",
       "      <td>84.20</td>\n",
       "      <td>66</td>\n",
       "      <td>20</td>\n",
       "      <td>4.70</td>\n",
       "      <td>PF</td>\n",
       "      <td>1592169751</td>\n",
       "    </tr>\n",
       "    <tr>\n",
       "      <th>...</th>\n",
       "      <td>...</td>\n",
       "      <td>...</td>\n",
       "      <td>...</td>\n",
       "      <td>...</td>\n",
       "      <td>...</td>\n",
       "      <td>...</td>\n",
       "      <td>...</td>\n",
       "      <td>...</td>\n",
       "      <td>...</td>\n",
       "    </tr>\n",
       "    <tr>\n",
       "      <th>566</th>\n",
       "      <td>rio gallegos</td>\n",
       "      <td>-51.62</td>\n",
       "      <td>-69.22</td>\n",
       "      <td>39.20</td>\n",
       "      <td>86</td>\n",
       "      <td>90</td>\n",
       "      <td>5.82</td>\n",
       "      <td>AR</td>\n",
       "      <td>1592169776</td>\n",
       "    </tr>\n",
       "    <tr>\n",
       "      <th>567</th>\n",
       "      <td>roma</td>\n",
       "      <td>43.21</td>\n",
       "      <td>-75.46</td>\n",
       "      <td>64.99</td>\n",
       "      <td>45</td>\n",
       "      <td>90</td>\n",
       "      <td>3.36</td>\n",
       "      <td>US</td>\n",
       "      <td>1592169776</td>\n",
       "    </tr>\n",
       "    <tr>\n",
       "      <th>568</th>\n",
       "      <td>rundu</td>\n",
       "      <td>-17.93</td>\n",
       "      <td>19.77</td>\n",
       "      <td>52.99</td>\n",
       "      <td>44</td>\n",
       "      <td>0</td>\n",
       "      <td>4.99</td>\n",
       "      <td>NA</td>\n",
       "      <td>1592169776</td>\n",
       "    </tr>\n",
       "    <tr>\n",
       "      <th>569</th>\n",
       "      <td>bairiki</td>\n",
       "      <td>1.33</td>\n",
       "      <td>172.98</td>\n",
       "      <td>84.20</td>\n",
       "      <td>70</td>\n",
       "      <td>20</td>\n",
       "      <td>5.82</td>\n",
       "      <td>KI</td>\n",
       "      <td>1592169776</td>\n",
       "    </tr>\n",
       "    <tr>\n",
       "      <th>570</th>\n",
       "      <td>saint-francois</td>\n",
       "      <td>46.42</td>\n",
       "      <td>3.91</td>\n",
       "      <td>60.80</td>\n",
       "      <td>67</td>\n",
       "      <td>2</td>\n",
       "      <td>3.36</td>\n",
       "      <td>FR</td>\n",
       "      <td>1592169705</td>\n",
       "    </tr>\n",
       "  </tbody>\n",
       "</table>\n",
       "<p>571 rows × 9 columns</p>\n",
       "</div>"
      ],
      "text/plain": [
       "               City    Lat     Lng  Max Temp  Humidity  Cloudiness  \\\n",
       "0    ribeira grande  38.52  -28.70     62.60        72          40   \n",
       "1              faya  18.39   42.45     75.20        46          97   \n",
       "2           qaanaaq  77.48  -69.36     41.83        69           0   \n",
       "3          hermanus -34.42   19.23     52.00        96          89   \n",
       "4            mahina -17.51 -149.49     84.20        66          20   \n",
       "..              ...    ...     ...       ...       ...         ...   \n",
       "566    rio gallegos -51.62  -69.22     39.20        86          90   \n",
       "567            roma  43.21  -75.46     64.99        45          90   \n",
       "568           rundu -17.93   19.77     52.99        44           0   \n",
       "569         bairiki   1.33  172.98     84.20        70          20   \n",
       "570  saint-francois  46.42    3.91     60.80        67           2   \n",
       "\n",
       "     Wind Speed Country        Date  \n",
       "0          8.05      PT  1592169751  \n",
       "1          1.12      SA  1592169751  \n",
       "2          5.88      GL  1592169751  \n",
       "3          1.07      ZA  1592169751  \n",
       "4          4.70      PF  1592169751  \n",
       "..          ...     ...         ...  \n",
       "566        5.82      AR  1592169776  \n",
       "567        3.36      US  1592169776  \n",
       "568        4.99      NA  1592169776  \n",
       "569        5.82      KI  1592169776  \n",
       "570        3.36      FR  1592169705  \n",
       "\n",
       "[571 rows x 9 columns]"
      ]
     },
     "execution_count": 23,
     "metadata": {},
     "output_type": "execute_result"
    }
   ],
   "source": [
    "weatherDict = {\"City\": cityList,\n",
    "                           \"Lat\": lat,\n",
    "                           \"Lng\": lng,\n",
    "                           \"Max Temp\": maxTemp,\n",
    "                           \"Humidity\": humidity,\n",
    "                           \"Cloudiness\": cloudiness,\n",
    "                           \"Wind Speed\": windSpeed,\n",
    "                           \"Country\": country,\n",
    "                           \"Date\": date}\n",
    "\n",
    "weather_df = pd.DataFrame(weatherDict)\n",
    "\n",
    "weather_df.to_csv(output_data_file)\n",
    "weather_df"
   ]
  },
  {
   "cell_type": "markdown",
   "metadata": {},
   "source": [
    "## Inspect the data and remove the cities where the humidity > 100%.\n",
    "----\n",
    "Skip this step if there are no cities that have humidity > 100%. "
   ]
  },
  {
   "cell_type": "code",
   "execution_count": 24,
   "metadata": {},
   "outputs": [
    {
     "name": "stdout",
     "output_type": "stream",
     "text": [
      "City          0\n",
      "Lat           0\n",
      "Lng           0\n",
      "Max Temp      0\n",
      "Humidity      0\n",
      "Cloudiness    0\n",
      "Wind Speed    0\n",
      "Country       0\n",
      "Date          0\n",
      "dtype: int64\n",
      "\n",
      "Index(['City', 'Lat', 'Lng', 'Max Temp', 'Humidity', 'Cloudiness',\n",
      "       'Wind Speed', 'Country', 'Date'],\n",
      "      dtype='object')\n"
     ]
    }
   ],
   "source": [
    "#  Get the indices of cities that have humidity over 100%.\n",
    "weather_df\n",
    "humidityFilter  = weather_df[weather_df['Humidity'] > 100].count()\n",
    "# print(g989Dup.index) \n",
    "print(humidityFilter)\n",
    "print()\n",
    "print(humidityFilter.index)"
   ]
  },
  {
   "cell_type": "code",
   "execution_count": null,
   "metadata": {},
   "outputs": [],
   "source": [
    "# Make a new DataFrame equal to the city data to drop all humidity outliers by index.\n",
    "# Passing \"inplace=False\" will make a copy of the city_data DataFrame, which we call \"clean_city_data\".\n"
   ]
  },
  {
   "cell_type": "code",
   "execution_count": null,
   "metadata": {},
   "outputs": [],
   "source": [
    "# Extract relevant fields from the data frame\n",
    "\n",
    "\n",
    "# Export the City_Data into a csv\n"
   ]
  },
  {
   "cell_type": "markdown",
   "metadata": {},
   "source": [
    "## Plotting the Data\n",
    "* Use proper labeling of the plots using plot titles (including date of analysis) and axes labels.\n",
    "* Save the plotted figures as .pngs."
   ]
  },
  {
   "cell_type": "markdown",
   "metadata": {},
   "source": [
    "## Latitude vs. Temperature Plot"
   ]
  },
  {
   "cell_type": "code",
   "execution_count": 25,
   "metadata": {
    "scrolled": false
   },
   "outputs": [
    {
     "data": {
      "image/png": "[encoded data removed]",
      "text/plain": [
       "<Figure size 432x288 with 1 Axes>"
      ]
     },
     "metadata": {
      "needs_background": "light"
     },
     "output_type": "display_data"
    }
   ],
   "source": [
    "# Generate a scatter plot of mouse weight versus average tumor volume for the Capomulin regimen\n",
    "\n",
    "# grab columns needed\n",
    "latTemp = weather_df[[\"Lat\", \"Max Temp\"]]\n",
    "latTemp\n",
    "\n",
    "# # rename columns for a different labels\n",
    "latTemp = latTemp.rename(columns={\"Lat\": \"Latitude\", \"Max Temp\": \"Max Temperature (F)\"})\n",
    "latTemp\n",
    "\n",
    "# # create plot\n",
    "latTemp.plot(kind=\"scatter\",x=\"Latitude\", y=\"Max Temperature (F)\", title=\"City Latitude vs. Max Temperature\") \n",
    "plt.savefig(\"../output_data/Fig1.png\")"
   ]
  },
  {
   "cell_type": "markdown",
   "metadata": {},
   "source": [
    "This code is taking the latitude and mapping where the max temp lies.  The equator is at 0 latitude.  It seems that that there is a relationship between latitude and max temp. Highest max temps are between -20 and 20 latitude and temps get cooler as you get further away.  There are some outliers in the northern hemisphere."
   ]
  },
  {
   "cell_type": "markdown",
   "metadata": {},
   "source": [
    "## Latitude vs. Humidity Plot"
   ]
  },
  {
   "cell_type": "code",
   "execution_count": 26,
   "metadata": {
    "scrolled": true
   },
   "outputs": [
    {
     "data": {
      "image/png": "[encoded data removed]",
      "text/plain": [
       "<Figure size 432x288 with 1 Axes>"
      ]
     },
     "metadata": {
      "needs_background": "light"
     },
     "output_type": "display_data"
    }
   ],
   "source": [
    "# grab columns needed\n",
    "latHum = weather_df[[\"Lat\", \"Humidity\"]]\n",
    "latHum\n",
    "\n",
    "# # rename columns for a different labels\n",
    "latHum = latHum.rename(columns={\"Lat\": \"Latitude\", \"Humidity\": \"Humidity (%)\"})\n",
    "latHum\n",
    "\n",
    "# # create plot\n",
    "latHum.plot(kind=\"scatter\",x=\"Latitude\", y=\"Humidity (%)\", title=\"City Latitude vs. Humidity\")\n",
    "plt.savefig(\"../output_data/Fig2.png\")"
   ]
  },
  {
   "cell_type": "markdown",
   "metadata": {},
   "source": [
    "This plot shows humidity relative to the equator.  There does not seem to be a relationship here."
   ]
  },
  {
   "cell_type": "markdown",
   "metadata": {},
   "source": [
    "## Latitude vs. Cloudiness Plot"
   ]
  },
  {
   "cell_type": "code",
   "execution_count": 27,
   "metadata": {},
   "outputs": [
    {
     "data": {
      "image/png": "[encoded data removed]",
      "text/plain": [
       "<Figure size 432x288 with 1 Axes>"
      ]
     },
     "metadata": {
      "needs_background": "light"
     },
     "output_type": "display_data"
    }
   ],
   "source": [
    "# grab columns needed\n",
    "latCloud = weather_df[[\"Lat\", \"Cloudiness\"]]\n",
    "latCloud\n",
    "\n",
    "# # rename columns for a different labels\n",
    "latCloud = latCloud.rename(columns={\"Lat\": \"Latitude\", \"Cloudiness\": \"Cloudiness (%)\"})\n",
    "latCloud\n",
    "\n",
    "# # create plot\n",
    "latCloud.plot(kind=\"scatter\",x=\"Latitude\", y=\"Cloudiness (%)\", title=\"City Latitude vs. Cloudiness\") \n",
    "plt.savefig(\"../output_data/Fig3.png\")"
   ]
  },
  {
   "cell_type": "markdown",
   "metadata": {},
   "source": [
    "This plot shows cloudiness relative to the equator.  There does not seem to be a relationsip between the two factors."
   ]
  },
  {
   "cell_type": "markdown",
   "metadata": {},
   "source": [
    "## Latitude vs. Wind Speed Plot"
   ]
  },
  {
   "cell_type": "code",
   "execution_count": 30,
   "metadata": {},
   "outputs": [
    {
     "data": {
      "image/png": "[encoded data removed]",
      "text/plain": [
       "<Figure size 432x288 with 1 Axes>"
      ]
     },
     "metadata": {
      "needs_background": "light"
     },
     "output_type": "display_data"
    }
   ],
   "source": [
    "# grab columns needed\n",
    "latWind = weather_df[[\"Lat\", \"Wind Speed\"]]\n",
    "latWind\n",
    "\n",
    "# # rename columns for a different labels\n",
    "latWind = latWind.rename(columns={\"Lat\": \"Latitude\", \"Wind Speed\": \"Wind Speed (mph)\"})\n",
    "latWind\n",
    "\n",
    "# # create plot\n",
    "latWind.plot(kind=\"scatter\",x=\"Latitude\", y=\"Wind Speed (mph)\", title=\"City Latitude vs. Wind Speed\") \n",
    "plt.savefig(\"../output_data/Fig4.png\")"
   ]
  },
  {
   "cell_type": "markdown",
   "metadata": {},
   "source": [
    "This plot shows the relationship between wind speed and distance from the equator.  There seems to be no relationship."
   ]
  },
  {
   "cell_type": "markdown",
   "metadata": {},
   "source": [
    "## Linear Regression"
   ]
  },
  {
   "cell_type": "code",
   "execution_count": null,
   "metadata": {},
   "outputs": [],
   "source": [
    "# OPTIONAL: Create a function to create Linear Regression plots"
   ]
  },
  {
   "cell_type": "code",
   "execution_count": 31,
   "metadata": {},
   "outputs": [
    {
     "data": {
      "text/html": [
       "<div>\n",
       "<style scoped>\n",
       "    .dataframe tbody tr th:only-of-type {\n",
       "        vertical-align: middle;\n",
       "    }\n",
       "\n",
       "    .dataframe tbody tr th {\n",
       "        vertical-align: top;\n",
       "    }\n",
       "\n",
       "    .dataframe thead th {\n",
       "        text-align: right;\n",
       "    }\n",
       "</style>\n",
       "<table border=\"1\" class=\"dataframe\">\n",
       "  <thead>\n",
       "    <tr style=\"text-align: right;\">\n",
       "      <th></th>\n",
       "      <th>City</th>\n",
       "      <th>Lat</th>\n",
       "      <th>Lng</th>\n",
       "      <th>Max Temp</th>\n",
       "      <th>Humidity</th>\n",
       "      <th>Cloudiness</th>\n",
       "      <th>Wind Speed</th>\n",
       "      <th>Country</th>\n",
       "      <th>Date</th>\n",
       "    </tr>\n",
       "  </thead>\n",
       "  <tbody>\n",
       "    <tr>\n",
       "      <th>3</th>\n",
       "      <td>hermanus</td>\n",
       "      <td>-34.42</td>\n",
       "      <td>19.23</td>\n",
       "      <td>52.00</td>\n",
       "      <td>96</td>\n",
       "      <td>89</td>\n",
       "      <td>1.07</td>\n",
       "      <td>ZA</td>\n",
       "      <td>1592169751</td>\n",
       "    </tr>\n",
       "    <tr>\n",
       "      <th>4</th>\n",
       "      <td>mahina</td>\n",
       "      <td>-17.51</td>\n",
       "      <td>-149.49</td>\n",
       "      <td>84.20</td>\n",
       "      <td>66</td>\n",
       "      <td>20</td>\n",
       "      <td>4.70</td>\n",
       "      <td>PF</td>\n",
       "      <td>1592169751</td>\n",
       "    </tr>\n",
       "    <tr>\n",
       "      <th>8</th>\n",
       "      <td>port alfred</td>\n",
       "      <td>-33.59</td>\n",
       "      <td>26.89</td>\n",
       "      <td>55.99</td>\n",
       "      <td>80</td>\n",
       "      <td>24</td>\n",
       "      <td>1.01</td>\n",
       "      <td>ZA</td>\n",
       "      <td>1592169751</td>\n",
       "    </tr>\n",
       "    <tr>\n",
       "      <th>10</th>\n",
       "      <td>airai</td>\n",
       "      <td>-8.93</td>\n",
       "      <td>125.41</td>\n",
       "      <td>57.42</td>\n",
       "      <td>100</td>\n",
       "      <td>9</td>\n",
       "      <td>4.23</td>\n",
       "      <td>TL</td>\n",
       "      <td>1592169751</td>\n",
       "    </tr>\n",
       "    <tr>\n",
       "      <th>13</th>\n",
       "      <td>atuona</td>\n",
       "      <td>-9.80</td>\n",
       "      <td>-139.03</td>\n",
       "      <td>80.44</td>\n",
       "      <td>73</td>\n",
       "      <td>24</td>\n",
       "      <td>14.58</td>\n",
       "      <td>PF</td>\n",
       "      <td>1592169277</td>\n",
       "    </tr>\n",
       "    <tr>\n",
       "      <th>...</th>\n",
       "      <td>...</td>\n",
       "      <td>...</td>\n",
       "      <td>...</td>\n",
       "      <td>...</td>\n",
       "      <td>...</td>\n",
       "      <td>...</td>\n",
       "      <td>...</td>\n",
       "      <td>...</td>\n",
       "      <td>...</td>\n",
       "    </tr>\n",
       "    <tr>\n",
       "      <th>557</th>\n",
       "      <td>pringsewu</td>\n",
       "      <td>-5.36</td>\n",
       "      <td>104.97</td>\n",
       "      <td>72.59</td>\n",
       "      <td>92</td>\n",
       "      <td>56</td>\n",
       "      <td>0.47</td>\n",
       "      <td>ID</td>\n",
       "      <td>1592169775</td>\n",
       "    </tr>\n",
       "    <tr>\n",
       "      <th>563</th>\n",
       "      <td>itarema</td>\n",
       "      <td>-2.92</td>\n",
       "      <td>-39.92</td>\n",
       "      <td>78.76</td>\n",
       "      <td>80</td>\n",
       "      <td>17</td>\n",
       "      <td>10.16</td>\n",
       "      <td>BR</td>\n",
       "      <td>1592169534</td>\n",
       "    </tr>\n",
       "    <tr>\n",
       "      <th>564</th>\n",
       "      <td>colac</td>\n",
       "      <td>-38.33</td>\n",
       "      <td>143.58</td>\n",
       "      <td>51.01</td>\n",
       "      <td>98</td>\n",
       "      <td>94</td>\n",
       "      <td>14.03</td>\n",
       "      <td>AU</td>\n",
       "      <td>1592169776</td>\n",
       "    </tr>\n",
       "    <tr>\n",
       "      <th>566</th>\n",
       "      <td>rio gallegos</td>\n",
       "      <td>-51.62</td>\n",
       "      <td>-69.22</td>\n",
       "      <td>39.20</td>\n",
       "      <td>86</td>\n",
       "      <td>90</td>\n",
       "      <td>5.82</td>\n",
       "      <td>AR</td>\n",
       "      <td>1592169776</td>\n",
       "    </tr>\n",
       "    <tr>\n",
       "      <th>568</th>\n",
       "      <td>rundu</td>\n",
       "      <td>-17.93</td>\n",
       "      <td>19.77</td>\n",
       "      <td>52.99</td>\n",
       "      <td>44</td>\n",
       "      <td>0</td>\n",
       "      <td>4.99</td>\n",
       "      <td>NA</td>\n",
       "      <td>1592169776</td>\n",
       "    </tr>\n",
       "  </tbody>\n",
       "</table>\n",
       "<p>185 rows × 9 columns</p>\n",
       "</div>"
      ],
      "text/plain": [
       "             City    Lat     Lng  Max Temp  Humidity  Cloudiness  Wind Speed  \\\n",
       "3        hermanus -34.42   19.23     52.00        96          89        1.07   \n",
       "4          mahina -17.51 -149.49     84.20        66          20        4.70   \n",
       "8     port alfred -33.59   26.89     55.99        80          24        1.01   \n",
       "10          airai  -8.93  125.41     57.42       100           9        4.23   \n",
       "13         atuona  -9.80 -139.03     80.44        73          24       14.58   \n",
       "..            ...    ...     ...       ...       ...         ...         ...   \n",
       "557     pringsewu  -5.36  104.97     72.59        92          56        0.47   \n",
       "563       itarema  -2.92  -39.92     78.76        80          17       10.16   \n",
       "564         colac -38.33  143.58     51.01        98          94       14.03   \n",
       "566  rio gallegos -51.62  -69.22     39.20        86          90        5.82   \n",
       "568         rundu -17.93   19.77     52.99        44           0        4.99   \n",
       "\n",
       "    Country        Date  \n",
       "3        ZA  1592169751  \n",
       "4        PF  1592169751  \n",
       "8        ZA  1592169751  \n",
       "10       TL  1592169751  \n",
       "13       PF  1592169277  \n",
       "..      ...         ...  \n",
       "557      ID  1592169775  \n",
       "563      BR  1592169534  \n",
       "564      AU  1592169776  \n",
       "566      AR  1592169776  \n",
       "568      NA  1592169776  \n",
       "\n",
       "[185 rows x 9 columns]"
      ]
     },
     "execution_count": 31,
     "metadata": {},
     "output_type": "execute_result"
    }
   ],
   "source": [
    "# Create Northern and Southern Hemisphere DataFrames\n",
    "nHemi = weather_df[weather_df['Lat'] > 0]\n",
    "nHemi\n",
    "\n",
    "sHemi = weather_df[weather_df['Lat'] < 0]\n",
    "sHemi\n"
   ]
  },
  {
   "cell_type": "markdown",
   "metadata": {},
   "source": [
    "####  Northern Hemisphere - Max Temp vs. Latitude Linear Regression"
   ]
  },
  {
   "cell_type": "code",
   "execution_count": 40,
   "metadata": {},
   "outputs": [
    {
     "name": "stdout",
     "output_type": "stream",
     "text": [
      "The r-squared is: 0.5793289539516349\n"
     ]
    },
    {
     "data": {
      "image/png": "[encoded data removed]",
      "text/plain": [
       "<Figure size 432x288 with 1 Axes>"
      ]
     },
     "metadata": {
      "needs_background": "light"
     },
     "output_type": "display_data"
    }
   ],
   "source": [
    "# grab columns needed\n",
    "nLatTemp = nHemi[[\"Lat\", \"Max Temp\"]]\n",
    "nLatTemp\n",
    "\n",
    "nLat = nHemi[\"Lat\"]\n",
    "nMaxTemp = nHemi[\"Max Temp\"]\n",
    "\n",
    "(slope, intercept, rvalue, pvalue, stderr) = linregress(nLat, nMaxTemp)\n",
    "regressValues = nLat * slope + intercept\n",
    "line_eq = \"y = \" + str(round(slope,2)) + \"x + \" + str(round(intercept,2))\n",
    "plt.scatter(nLat, nMaxTemp)\n",
    "plt.plot(nLat,regressValues,\"r-\")\n",
    "plt.annotate(line_eq,(0,40),fontsize=15,color=\"red\")\n",
    "plt.xlabel('Latitude')\n",
    "plt.ylabel('Max Temp')\n",
    "print(f\"The r-squared is: {rvalue**2}\")\n",
    "plt.show()"
   ]
  },
  {
   "cell_type": "markdown",
   "metadata": {},
   "source": [
    "This plot shows a moderately strong negative correlation."
   ]
  },
  {
   "cell_type": "markdown",
   "metadata": {},
   "source": [
    "####  Southern Hemisphere - Max Temp vs. Latitude Linear Regression"
   ]
  },
  {
   "cell_type": "code",
   "execution_count": 33,
   "metadata": {
    "scrolled": true
   },
   "outputs": [
    {
     "name": "stdout",
     "output_type": "stream",
     "text": [
      "The r-squared is: 0.6950655505023627\n"
     ]
    },
    {
     "data": {
      "image/png": "[encoded data removed]",
      "text/plain": [
       "<Figure size 432x288 with 1 Axes>"
      ]
     },
     "metadata": {
      "needs_background": "light"
     },
     "output_type": "display_data"
    }
   ],
   "source": [
    "sLatTemp = sHemi[[\"Lat\", \"Max Temp\"]]\n",
    "sLatTemp\n",
    "\n",
    "sLat = sHemi[\"Lat\"]\n",
    "sMaxTemp = sHemi[\"Max Temp\"]\n",
    "\n",
    "(slope, intercept, rvalue, pvalue, stderr) = linregress(sLat, sMaxTemp)\n",
    "regressValues = sLat * slope + intercept\n",
    "line_eq = \"y = \" + str(round(slope,2)) + \"x + \" + str(round(intercept,2))\n",
    "plt.scatter(sLat, sMaxTemp)\n",
    "plt.plot(sLat,regressValues,\"r-\")\n",
    "plt.annotate(line_eq,(-55, 80),fontsize=15,color=\"red\")\n",
    "plt.xlabel('Latitude')\n",
    "plt.ylabel('Max Temp')\n",
    "print(f\"The r-squared is: {rvalue**2}\")\n",
    "plt.show()"
   ]
  },
  {
   "cell_type": "markdown",
   "metadata": {},
   "source": [
    "There is a moderately strong positive correlation."
   ]
  },
  {
   "cell_type": "markdown",
   "metadata": {},
   "source": [
    "####  Northern Hemisphere - Humidity (%) vs. Latitude Linear Regression"
   ]
  },
  {
   "cell_type": "code",
   "execution_count": 34,
   "metadata": {},
   "outputs": [
    {
     "name": "stdout",
     "output_type": "stream",
     "text": [
      "The r-squared is: 0.0007278948099811211\n"
     ]
    },
    {
     "data": {
      "image/png": "[encoded data removed]",
      "text/plain": [
       "<Figure size 432x288 with 1 Axes>"
      ]
     },
     "metadata": {
      "needs_background": "light"
     },
     "output_type": "display_data"
    }
   ],
   "source": [
    "# grab columns needed\n",
    "nLatHum = nHemi[[\"Lat\", \"Humidity\"]]\n",
    "nLatHum\n",
    "\n",
    "nLat = nHemi[\"Lat\"]\n",
    "nHumidity = nHemi[\"Humidity\"]\n",
    "\n",
    "(slope, intercept, rvalue, pvalue, stderr) = linregress(nLat, nHumidity)\n",
    "regressValues = nLat * slope + intercept\n",
    "line_eq = \"y = \" + str(round(slope,2)) + \"x + \" + str(round(intercept,2))\n",
    "plt.scatter(nLat, nHumidity)\n",
    "plt.plot(nLat,regressValues,\"r-\")\n",
    "plt.annotate(line_eq,(40,5),fontsize=15,color=\"red\")\n",
    "plt.xlabel('Latitude')\n",
    "plt.ylabel('Humidity')\n",
    "print(f\"The r-squared is: {rvalue**2}\")\n",
    "plt.show()"
   ]
  },
  {
   "cell_type": "markdown",
   "metadata": {},
   "source": [
    "There is no correlation.  Slope is close to 0."
   ]
  },
  {
   "cell_type": "markdown",
   "metadata": {},
   "source": [
    "####  Southern Hemisphere - Humidity (%) vs. Latitude Linear Regression"
   ]
  },
  {
   "cell_type": "code",
   "execution_count": 35,
   "metadata": {
    "scrolled": true
   },
   "outputs": [
    {
     "name": "stdout",
     "output_type": "stream",
     "text": [
      "The r-squared is: 0.027890524636222595\n"
     ]
    },
    {
     "data": {
      "image/png": "[encoded data removed]",
      "text/plain": [
       "<Figure size 432x288 with 1 Axes>"
      ]
     },
     "metadata": {
      "needs_background": "light"
     },
     "output_type": "display_data"
    }
   ],
   "source": [
    "# grab columns needed\n",
    "sLatHum = sHemi[[\"Lat\", \"Humidity\"]]\n",
    "sLatHum\n",
    "\n",
    "sLat = sHemi[\"Lat\"]\n",
    "sHumidity = sHemi[\"Humidity\"]\n",
    "\n",
    "(slope, intercept, rvalue, pvalue, stderr) = linregress(sLat, sHumidity)\n",
    "regressValues = sLat * slope + intercept\n",
    "line_eq = \"y = \" + str(round(slope,2)) + \"x + \" + str(round(intercept,2))\n",
    "plt.scatter(sLat, sHumidity)\n",
    "plt.plot(sLat,regressValues,\"r-\")\n",
    "plt.annotate(line_eq,(-56,25),fontsize=15,color=\"red\")\n",
    "plt.xlabel('Latitude')\n",
    "plt.ylabel('Humidity')\n",
    "print(f\"The r-squared is: {rvalue**2}\")\n",
    "plt.show()"
   ]
  },
  {
   "cell_type": "markdown",
   "metadata": {},
   "source": [
    "The positive correlation is very slight."
   ]
  },
  {
   "cell_type": "markdown",
   "metadata": {},
   "source": [
    "####  Northern Hemisphere - Cloudiness (%) vs. Latitude Linear Regression"
   ]
  },
  {
   "cell_type": "code",
   "execution_count": 36,
   "metadata": {
    "scrolled": true
   },
   "outputs": [
    {
     "name": "stdout",
     "output_type": "stream",
     "text": [
      "The r-squared is: 0.0003256681815971458\n"
     ]
    },
    {
     "data": {
      "image/png": "[encoded data removed]",
      "text/plain": [
       "<Figure size 432x288 with 1 Axes>"
      ]
     },
     "metadata": {
      "needs_background": "light"
     },
     "output_type": "display_data"
    }
   ],
   "source": [
    "# grab columns needed\n",
    "nLatCloud = nHemi[[\"Lat\", \"Cloudiness\"]]\n",
    "nLatCloud\n",
    "\n",
    "nLat = nHemi[\"Lat\"]\n",
    "nCloudiness = nHemi[\"Cloudiness\"]\n",
    "\n",
    "(slope, intercept, rvalue, pvalue, stderr) = linregress(nLat, nCloudiness)\n",
    "regressValues = nLat * slope + intercept\n",
    "line_eq = \"y = \" + str(round(slope,2)) + \"x + \" + str(round(intercept,2))\n",
    "plt.scatter(nLat, nCloudiness)\n",
    "plt.plot(nLat,regressValues,\"r-\")\n",
    "plt.annotate(line_eq,(45,5),fontsize=15,color=\"red\")\n",
    "plt.xlabel('Latitude')\n",
    "plt.ylabel('Cloudiness')\n",
    "print(f\"The r-squared is: {rvalue**2}\")\n",
    "plt.show()"
   ]
  },
  {
   "cell_type": "markdown",
   "metadata": {},
   "source": [
    "There is no correlation."
   ]
  },
  {
   "cell_type": "markdown",
   "metadata": {},
   "source": [
    "####  Southern Hemisphere - Cloudiness (%) vs. Latitude Linear Regression"
   ]
  },
  {
   "cell_type": "code",
   "execution_count": 37,
   "metadata": {},
   "outputs": [
    {
     "name": "stdout",
     "output_type": "stream",
     "text": [
      "The r-squared is: 0.0020485201670015366\n"
     ]
    },
    {
     "data": {
      "image/png": "[encoded data removed]",
      "text/plain": [
       "<Figure size 432x288 with 1 Axes>"
      ]
     },
     "metadata": {
      "needs_background": "light"
     },
     "output_type": "display_data"
    }
   ],
   "source": [
    "# grab columns needed\n",
    "sLatCloud = sHemi[[\"Lat\", \"Cloudiness\"]]\n",
    "sLatCloud \n",
    "\n",
    "sLat = sHemi[\"Lat\"]\n",
    "sCloudiness = sHemi[\"Cloudiness\"]\n",
    "\n",
    "(slope, intercept, rvalue, pvalue, stderr) = linregress(sLat, sCloudiness)\n",
    "regressValues = sLat * slope + intercept\n",
    "line_eq = \"y = \" + str(round(slope,2)) + \"x + \" + str(round(intercept,2))\n",
    "plt.scatter(sLat, sCloudiness)\n",
    "plt.plot(sLat,regressValues,\"r-\")\n",
    "plt.annotate(line_eq,(-57,25),fontsize=15,color=\"red\")\n",
    "plt.xlabel('Latitude')\n",
    "plt.ylabel('Cloudiness')\n",
    "print(f\"The r-squared is: {rvalue**2}\")\n",
    "plt.show()"
   ]
  },
  {
   "cell_type": "markdown",
   "metadata": {},
   "source": [
    "The negative correlation is very slight."
   ]
  },
  {
   "cell_type": "markdown",
   "metadata": {},
   "source": [
    "####  Northern Hemisphere - Wind Speed (mph) vs. Latitude Linear Regression"
   ]
  },
  {
   "cell_type": "code",
   "execution_count": 38,
   "metadata": {
    "scrolled": false
   },
   "outputs": [
    {
     "name": "stdout",
     "output_type": "stream",
     "text": [
      "The r-squared is: 0.0003623691403863199\n"
     ]
    },
    {
     "data": {
      "image/png": "[encoded data removed]",
      "text/plain": [
       "<Figure size 432x288 with 1 Axes>"
      ]
     },
     "metadata": {
      "needs_background": "light"
     },
     "output_type": "display_data"
    }
   ],
   "source": [
    "# grab columns needed\n",
    "nLatWind = nHemi[[\"Lat\", \"Wind Speed\"]]\n",
    "nLatWind\n",
    "\n",
    "nLat = nHemi[\"Lat\"]\n",
    "nWindSpeed = nHemi[\"Wind Speed\"]\n",
    "\n",
    "(slope, intercept, rvalue, pvalue, stderr) = linregress(nLat, nWindSpeed)\n",
    "regressValues = nLat * slope + intercept\n",
    "line_eq = \"y = \" + str(round(slope,2)) + \"x + \" + str(round(intercept,2))\n",
    "plt.scatter(nLat, nWindSpeed)\n",
    "plt.plot(nLat,regressValues,\"r-\")\n",
    "plt.annotate(line_eq,(27,27),fontsize=15,color=\"red\")\n",
    "plt.xlabel('Latitude')\n",
    "plt.ylabel('Wind Speed')\n",
    "print(f\"The r-squared is: {rvalue**2}\")\n",
    "plt.show()"
   ]
  },
  {
   "cell_type": "markdown",
   "metadata": {},
   "source": [
    "There is no correlation."
   ]
  },
  {
   "cell_type": "markdown",
   "metadata": {},
   "source": [
    "####  Southern Hemisphere - Wind Speed (mph) vs. Latitude Linear Regression"
   ]
  },
  {
   "cell_type": "code",
   "execution_count": 39,
   "metadata": {},
   "outputs": [
    {
     "name": "stdout",
     "output_type": "stream",
     "text": [
      "The r-squared is: 0.0037105308989203844\n"
     ]
    },
    {
     "data": {
      "image/png": "[encoded data removed]",
      "text/plain": [
       "<Figure size 432x288 with 1 Axes>"
      ]
     },
     "metadata": {
      "needs_background": "light"
     },
     "output_type": "display_data"
    }
   ],
   "source": [
    "# grab columns needed\n",
    "sLatWind = sHemi[[\"Lat\", \"Wind Speed\"]]\n",
    "sLatWind\n",
    "\n",
    "sLat = sHemi[\"Lat\"]\n",
    "sWindSpeed = sHemi[\"Wind Speed\"]\n",
    "\n",
    "(slope, intercept, rvalue, pvalue, stderr) = linregress(sLat, sWindSpeed)\n",
    "regressValues = sLat * slope + intercept\n",
    "line_eq = \"y = \" + str(round(slope,2)) + \"x + \" + str(round(intercept,2))\n",
    "plt.scatter(sLat, sWindSpeed)\n",
    "plt.plot(sLat,regressValues,\"r-\")\n",
    "plt.annotate(line_eq,(-30,25),fontsize=15,color=\"red\")\n",
    "plt.xlabel('Latitude')\n",
    "plt.ylabel('Wind Speed')\n",
    "print(f\"The r-squared is: {rvalue**2}\")\n",
    "plt.show()"
   ]
  },
  {
   "cell_type": "markdown",
   "metadata": {},
   "source": [
    "There is a very slight positive correlation."
   ]
  }
 ],
 "metadata": {
  "anaconda-cloud": {},
  "kernel_info": {
   "name": "python3"
  },
  "kernelspec": {
   "display_name": "Python [conda env:root]",
   "language": "python",
   "name": "conda-root-py"
  },
  "language_info": {
   "codemirror_mode": {
    "name": "ipython",
    "version": 3
   },
   "file_extension": ".py",
   "mimetype": "text/x-python",
   "name": "python",
   "nbconvert_exporter": "python",
   "pygments_lexer": "ipython3",
   "version": "3.7.6"
  },
  "latex_envs": {
   "LaTeX_envs_menu_present": true,
   "autoclose": false,
   "autocomplete": true,
   "bibliofile": "biblio.bib",
   "cite_by": "apalike",
   "current_citInitial": 1,
   "eqLabelWithNumbers": true,
   "eqNumInitial": 1,
   "hotkeys": {
    "equation": "Ctrl-E",
    "itemize": "Ctrl-I"
   },
   "labels_anchors": false,
   "latex_user_defs": false,
   "report_style_numbering": false,
   "user_envs_cfg": false
  },
  "nteract": {
   "version": "0.12.3"
  }
 },
 "nbformat": 4,
 "nbformat_minor": 2
}
